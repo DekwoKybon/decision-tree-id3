{
  "nbformat_minor": 0, 
  "nbformat": 4, 
  "cells": [
    {
      "execution_count": null, 
      "cell_type": "code", 
      "source": [
        "%matplotlib inline"
      ], 
      "outputs": [], 
      "metadata": {
        "collapsed": false
      }
    }, 
    {
      "source": [
        "\n# Plotting Template Estimator\n\n\nAn example plot of :class:`skltemplate.template.TemplateEstimator`\n\n"
      ], 
      "cell_type": "markdown", 
      "metadata": {}
    }, 
    {
      "execution_count": null, 
      "cell_type": "code", 
      "source": [
        "\"\"\"\nfrom id3 import Id3Estimator\nfrom sklearn.datasets import load_breast_cancer\nfrom sklearn.model_selection import train_test_split\nfrom matplotlib import pyplot as plt\n\nbunch = load_breast_cancer()\nclf = Id3Estimator()\nX_train, X_test, y_train, y_test = train_test_split(bunch.data,\n                                                    bunch.target,\n                                                    test_size=0.2)\nclf.fit(X_train, y_train)\n\nplt.figure()\nplt.scatter(X_train, y_train, label=\"data\")\nplt.plot(X_test, clf.predict(X_test), label=\"predict\")\nplt.xlabel(\"data\")\nplt.ylabel(\"target\")\nplt.show()\n\"\"\""
      ], 
      "outputs": [], 
      "metadata": {
        "collapsed": false
      }
    }
  ], 
  "metadata": {
    "kernelspec": {
      "display_name": "Python 2", 
      "name": "python2", 
      "language": "python"
    }, 
    "language_info": {
      "mimetype": "text/x-python", 
      "nbconvert_exporter": "python", 
      "name": "python", 
      "file_extension": ".py", 
      "version": "2.7.11", 
      "pygments_lexer": "ipython2", 
      "codemirror_mode": {
        "version": 2, 
        "name": "ipython"
      }
    }
  }
}