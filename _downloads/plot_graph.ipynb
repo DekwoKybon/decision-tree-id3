{
  "nbformat_minor": 0, 
  "nbformat": 4, 
  "cells": [
    {
      "execution_count": null, 
      "cell_type": "code", 
      "source": [
        "%matplotlib inline"
      ], 
      "outputs": [], 
      "metadata": {
        "collapsed": false
      }
    }, 
    {
      "source": [
        "\n# Graph export from Estimator\n\n\nAn example graph export of :class:`id3.id3.Id3Estimator` with\n:file:`id3.export.export_graphviz`\n\n"
      ], 
      "cell_type": "markdown", 
      "metadata": {}
    }, 
    {
      "execution_count": null, 
      "cell_type": "code", 
      "source": [
        "from id3 import Id3Estimator, export_graphviz\nimport numpy as np\n\nfeature_names = [\"age\",\n                 \"gender\",\n                 \"sector\",\n                 \"degree\"]\n\nX = np.array([[45, \"male\", \"private\", \"m\"],\n              [50, \"female\", \"private\", \"m\"],\n              [61, \"other\", \"public\", \"b\"],\n              [40, \"male\", \"private\", \"none\"],\n              [34, \"female\", \"private\", \"none\"],\n              [33, \"male\", \"public\", \"none\"],\n              [43, \"other\", \"private\", \"m\"],\n              [35, \"male\", \"private\", \"m\"],\n              [34, \"female\", \"private\", \"m\"],\n              [35, \"male\", \"public\", \"m\"],\n              [34, \"other\", \"public\", \"m\"],\n              [34, \"other\", \"public\", \"b\"],\n              [34, \"female\", \"public\", \"b\"],\n              [34, \"male\", \"public\", \"b\"],\n              [34, \"female\", \"private\", \"b\"],\n              [34, \"male\", \"private\", \"b\"],\n              [34, \"other\", \"private\", \"b\"]])\n\ny = np.array([\"(30k,38k)\",\n              \"(30k,38k)\",\n              \"(30k,38k)\",\n              \"(13k,15k)\",\n              \"(13k,15k)\",\n              \"(13k,15k)\",\n              \"(23k,30k)\",\n              \"(23k,30k)\",\n              \"(23k,30k)\",\n              \"(15k,23k)\",\n              \"(15k,23k)\",\n              \"(15k,23k)\",\n              \"(15k,23k)\",\n              \"(15k,23k)\",\n              \"(23k,30k)\",\n              \"(23k,30k)\",\n              \"(23k,30k)\"])\n\nclf = Id3Estimator()\nclf.fit(X, y, check_input=True)\n\nexport_graphviz(clf.tree_, \"out.dot\", feature_names)\n\n\"\"\"\nTo convert the dotfile to\n$ dot -T png out.dot -o out.png\n\n.. figure::  /out.png\n   :align:   center\n\"\"\""
      ], 
      "outputs": [], 
      "metadata": {
        "collapsed": false
      }
    }
  ], 
  "metadata": {
    "kernelspec": {
      "display_name": "Python 2", 
      "name": "python2", 
      "language": "python"
    }, 
    "language_info": {
      "mimetype": "text/x-python", 
      "nbconvert_exporter": "python", 
      "name": "python", 
      "file_extension": ".py", 
      "version": "2.7.11", 
      "pygments_lexer": "ipython2", 
      "codemirror_mode": {
        "version": 2, 
        "name": "ipython"
      }
    }
  }
}